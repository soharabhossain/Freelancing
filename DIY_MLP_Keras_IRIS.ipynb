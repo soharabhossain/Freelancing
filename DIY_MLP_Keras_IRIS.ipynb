{
  "nbformat": 4,
  "nbformat_minor": 0,
  "metadata": {
    "colab": {
      "name": "DIY_MLP_Keras_IRIS.ipynb",
      "provenance": [],
      "collapsed_sections": []
    },
    "kernelspec": {
      "name": "python3",
      "display_name": "Python 3"
    },
    "language_info": {
      "name": "python"
    }
  },
  "cells": [
    {
      "cell_type": "markdown",
      "metadata": {
        "id": "NRq-CSdtwM-v"
      },
      "source": [
        "# Multi Layer Perceptron for IRIS Binary/Multi-class Classification - with Keras Sequential API\n"
      ]
    },
    {
      "cell_type": "code",
      "metadata": {
        "id": "sSAu8c0Eq89D"
      },
      "source": [
        "# Import libraries\n",
        "\n",
        "from keras.models import Sequential\n",
        "from keras.layers import Dense\n",
        "from keras.utils import to_categorical\n",
        "import numpy as np\n",
        "import matplotlib.pyplot as plt"
      ],
      "execution_count": null,
      "outputs": []
    },
    {
      "cell_type": "markdown",
      "metadata": {
        "id": "Lh6Ogv6XxmSs"
      },
      "source": [
        "## Load Data"
      ]
    },
    {
      "cell_type": "code",
      "metadata": {
        "id": "z8aBL627qU0i",
        "colab": {
          "base_uri": "https://localhost:8080/"
        },
        "outputId": "bc76aef5-8b0c-4352-bb19-194ff5e253ef"
      },
      "source": [
        "# Pose IRIS as a Binary classification Problem\n",
        "# Use only Setosa and Versicolor classes\n",
        "\n",
        "# +++++++++++++++++++++++++++++++++++++++++++++++++++++++++++++++++++++++++++\n",
        "\"\"\"## Load IRIS Dataset\"\"\"\n",
        "# -------------------------\n",
        "from sklearn import datasets\n",
        "\n",
        "# Test on IRIS\n",
        "iris = datasets.load_iris()\n",
        "\n",
        "features = ['sepal length','sepal width', 'petal length', 'petal width']\n",
        "\n",
        "# How many features to select?\n",
        "num_selected_features = 2\n",
        "\n",
        "# Binary or Multi-class classification\n",
        "num_classes = 2\n",
        "\n",
        "# Taking first two features sepal length and sepal width\n",
        "selected_features=[0, 1]\n",
        "\n",
        "# Taking last two features petal length and petal width\n",
        "#selected_features=[2, 3]\n",
        "\n",
        "# Taking all four features \n",
        "#selected_features=[0, 1, 2, 3]\n",
        "\n",
        "# Which class samples? - class Setosa and Versicolor. \n",
        "# Don't use Verginica.\n",
        "idx1 = 0\n",
        "idx2 = 100\n",
        "\n",
        "# Collect Data\n",
        "X = iris.data[idx1:idx2, selected_features] # taking last two features sepal length and sepal width\n",
        "y = iris.target[idx1:idx2]\n",
        "\n",
        "print('\\n Data Features : {}'.format(X.shape))\n",
        "print('\\n Distinct Class labels:', np.unique(y))\n",
        "\n",
        "# ==============================================================\n"
      ],
      "execution_count": null,
      "outputs": [
        {
          "output_type": "stream",
          "text": [
            "\n",
            " Data Features : (100, 2)\n",
            "\n",
            " Distinct Class labels: [0 1]\n"
          ],
          "name": "stdout"
        }
      ]
    },
    {
      "cell_type": "code",
      "metadata": {
        "colab": {
          "base_uri": "https://localhost:8080/",
          "height": 35
        },
        "id": "_AvmZri8uSad",
        "outputId": "c1cb4591-e30c-4138-e633-d885ea55ccd6"
      },
      "source": [
        "# Only required for the Multi-class classification problem\n",
        "'''\n",
        "y_one_hot = to_categorical(y)\n",
        "print(y_one_hot)\n",
        "y = y_one_hot\n",
        "'''"
      ],
      "execution_count": null,
      "outputs": [
        {
          "output_type": "execute_result",
          "data": {
            "application/vnd.google.colaboratory.intrinsic+json": {
              "type": "string"
            },
            "text/plain": [
              "'\\ny_one_hot = to_categorical(y)\\nprint(y_one_hot)\\ny = y_one_hot\\n'"
            ]
          },
          "metadata": {
            "tags": []
          },
          "execution_count": 3
        }
      ]
    },
    {
      "cell_type": "markdown",
      "metadata": {
        "id": "CwCC2IsgxgBF"
      },
      "source": [
        "## Split into Training and Test Set"
      ]
    },
    {
      "cell_type": "code",
      "metadata": {
        "id": "P2Ssy7qdpvCY",
        "colab": {
          "base_uri": "https://localhost:8080/"
        },
        "outputId": "2222dee9-f321-4f50-f495-7063ff1ab11f"
      },
      "source": [
        "from sklearn.model_selection import train_test_split\n",
        "\n",
        "# Experiment with various train/test split sizes: 0.2, 0.3, 0.5\n",
        "X_train, X_test, y_train, y_test = train_test_split(X, y, test_size=0.3, random_state=101, shuffle=True, stratify=y)\n",
        "\n",
        "print('\\n Labels counts in y:', y.shape[0])\n",
        "print('\\n Labels counts in y_train:', y_train.shape[0])\n",
        "print('\\n Labels counts in y_test:', y_test.shape[0])\n",
        "\n",
        "print('\\n\\n Distinct Class labels y_train:', np.unique(y_train))\n",
        "print('\\n Class labels y_train:', (y_train))\n",
        "\n",
        "print('\\n\\n Distinct Class labels y_test:', np.unique(y_test))\n",
        "print('\\n Class labels y_test:', (y_test))\n"
      ],
      "execution_count": null,
      "outputs": [
        {
          "output_type": "stream",
          "text": [
            "\n",
            " Labels counts in y: 100\n",
            "\n",
            " Labels counts in y_train: 70\n",
            "\n",
            " Labels counts in y_test: 30\n",
            "\n",
            "\n",
            " Distinct Class labels y_train: [0 1]\n",
            "\n",
            " Class labels y_train: [0 1 0 0 1 1 1 1 0 0 1 1 0 1 0 0 1 1 0 0 0 0 1 1 0 0 0 1 0 1 1 0 1 1 0 1 0\n",
            " 1 1 0 1 1 0 0 0 1 0 0 0 0 0 1 0 1 1 0 1 0 0 0 1 1 1 1 0 1 1 1 0 1]\n",
            "\n",
            "\n",
            " Distinct Class labels y_test: [0 1]\n",
            "\n",
            " Class labels y_test: [1 1 0 0 0 1 1 0 0 0 0 0 0 1 1 1 1 1 0 1 0 0 0 1 1 1 1 0 0 1]\n"
          ],
          "name": "stdout"
        }
      ]
    },
    {
      "cell_type": "markdown",
      "metadata": {
        "id": "kmBh_zt3xa_D"
      },
      "source": [
        "## Standardize Data"
      ]
    },
    {
      "cell_type": "code",
      "metadata": {
        "id": "I0N_JFQ5rvf-"
      },
      "source": [
        "from sklearn.preprocessing import StandardScaler\n",
        "\n",
        "sc = StandardScaler()\n",
        "\n",
        "# Fit and transform on training data\n",
        "sc.fit(X_train)\n",
        "X_train_std = sc.transform(X_train)\n",
        "\n",
        "# Just transform the test data\n",
        "X_test_std = sc.transform(X_test)\n",
        "\n",
        "# Uncomment the following lines \n",
        "# to check the performance on non-standardized data\n",
        "\n",
        "#X_train_std = X_train\n",
        "#X_test_std = X_test"
      ],
      "execution_count": null,
      "outputs": []
    },
    {
      "cell_type": "markdown",
      "metadata": {
        "id": "KNQ-pCbgxVp8"
      },
      "source": [
        "# --------------- DIY !!!!! -----------------\n",
        "## Build the MLP"
      ]
    },
    {
      "cell_type": "code",
      "metadata": {
        "id": "hy3LHirfrC7n"
      },
      "source": [
        "'''Write your code here'''\n"
      ],
      "execution_count": null,
      "outputs": []
    },
    {
      "cell_type": "code",
      "metadata": {
        "id": "YSk55V7_re_g"
      },
      "source": [
        "model.summary()"
      ],
      "execution_count": null,
      "outputs": []
    },
    {
      "cell_type": "markdown",
      "metadata": {
        "id": "MKCsJGBdxSkm"
      },
      "source": [
        "## Train the Model"
      ]
    },
    {
      "cell_type": "code",
      "metadata": {
        "id": "DnywNsI6rdhv"
      },
      "source": [
        "history = model.fit(X_train_std, y_train, validation_data=(X_test_std, y_test), epochs=50)"
      ],
      "execution_count": null,
      "outputs": []
    },
    {
      "cell_type": "markdown",
      "metadata": {
        "id": "9cC1aRRyxMV9"
      },
      "source": [
        "## Training Curve"
      ]
    },
    {
      "cell_type": "code",
      "metadata": {
        "id": "iAARoumzwxp-"
      },
      "source": [
        "# Summarize History for the Loss\n",
        "plt.plot(history.history['loss'])\n",
        "plt.plot(history.history['val_loss'])\n",
        "plt.title('Model loss')\n",
        "plt.ylabel('loss')\n",
        "plt.xlabel('epoch')\n",
        "plt.legend(['train', 'test'], loc='upper left')\n",
        "plt.show()"
      ],
      "execution_count": null,
      "outputs": []
    },
    {
      "cell_type": "markdown",
      "metadata": {
        "id": "Bh2UAhQYxJzN"
      },
      "source": [
        "## Evaluate on Test Set"
      ]
    },
    {
      "cell_type": "code",
      "metadata": {
        "id": "mxcxRVHDr_AU"
      },
      "source": [
        "loss, accuracy = model.evaluate(X_test_std, y_test)\n",
        "\n",
        "print('\\n Loss : ', loss)\n",
        "print('\\n Accuracy : ', accuracy)"
      ],
      "execution_count": null,
      "outputs": []
    }
  ]
}